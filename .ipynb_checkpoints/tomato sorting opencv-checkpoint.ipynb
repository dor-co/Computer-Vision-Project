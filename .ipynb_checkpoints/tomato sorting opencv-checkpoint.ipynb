{
 "cells": [
  {
   "cell_type": "code",
   "execution_count": 1,
   "metadata": {},
   "outputs": [],
   "source": [
    "import cv2\n",
    "import numpy as np\n",
    "\n",
    "cap = cv2.VideoCapture('tomato sorting.mp4')\n",
    "\n",
    "while True:\n",
    "    _, frame = cap.read()\n",
    "    hsv = cv2.cvtColor(frame, cv2.COLOR_BGR2HSV)\n",
    "    \n",
    "    #definition of the color green\n",
    "    lower_green = np.array([25,0,0])\n",
    "    upper_green = np.array([75,255,255])\n",
    "    \n",
    "    mask = cv2.inRange(hsv, lower_green, upper_green)\n",
    "    kernel = np.ones((5, 5), np.uint8)\n",
    "    mask = cv2.erode(mask, kernel)\n",
    "    \n",
    "    contours, hierarchy = cv2.findContours(mask, cv2.RETR_TREE, cv2.CHAIN_APPROX_SIMPLE) #find the object in the video\n",
    "    \n",
    "    for cnt in contours:\n",
    "        \n",
    "        area = cv2.contourArea(cnt) #area of the object\n",
    "        \n",
    "        approx = cv2.approxPolyDP(cnt, 0.005*cv2.arcLength(cnt, True),True) #dynamic border around the object\n",
    "        \n",
    "        if area > 30: #only if the area of the object bigger then 30 so draw the border\n",
    "            cv2.drawContours(frame, [approx], 0, (0, 0, 0), 4) #(0,0,0) - black, this is the color of the border. 4 is the size of the border\n",
    " \n",
    "        cv2.putText(frame, \"Status: {}\".format('Running'), (10, 20), cv2.FONT_HERSHEY_SIMPLEX,0.5, (0, 0, 255), 2)\n",
    "    \n",
    "    cv2.imshow(\"Frame\", frame) #show the object with the selected color\n",
    "    cv2.imshow(\"Mask\", mask) #show the white and black video of the object\n",
    "    \n",
    "    key = cv2.waitKey(1)\n",
    "    if key == 27: #if you press 'esc'\n",
    "        break\n",
    "\n",
    "cap.release()\n",
    "cv2.destroyAllWindows()"
   ]
  },
  {
   "cell_type": "code",
   "execution_count": null,
   "metadata": {},
   "outputs": [],
   "source": []
  }
 ],
 "metadata": {
  "kernelspec": {
   "display_name": "Python 3",
   "language": "python",
   "name": "python3"
  },
  "language_info": {
   "codemirror_mode": {
    "name": "ipython",
    "version": 3
   },
   "file_extension": ".py",
   "mimetype": "text/x-python",
   "name": "python",
   "nbconvert_exporter": "python",
   "pygments_lexer": "ipython3",
   "version": "3.7.6"
  }
 },
 "nbformat": 4,
 "nbformat_minor": 4
}
